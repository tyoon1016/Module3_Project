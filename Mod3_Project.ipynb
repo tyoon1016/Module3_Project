{
 "cells": [
  {
   "cell_type": "markdown",
   "metadata": {},
   "source": [
    "# Module 3 Project - Hyungjun Kang\n"
   ]
  },
  {
   "cell_type": "markdown",
   "metadata": {},
   "source": [
    "## Northwind Database Hypothesis Testing\n",
    "\n",
    "## Introduction\n",
    "\n",
    "Module 3 project is about working with the Northwind Database. This project will demonstrate knowledges of SQL, designing and performing hypothesis testing. Northwind database is a sandbox databse made by Microsoft to demonstrate the SQL server and Microsoft Acesss. \n",
    "\n",
    "#### What to do with the Northwind database?\n",
    "\n",
    "Utilizing the data, hypothesis testing was designed and conducted in order to maximize the comapny's profit. With differnt point of views towards the business model, total number of Four hypothesis was formed in order to give more insights. This will prevent product loss and maxize the revenue, lead to more profit for the company.\n"
   ]
  },
  {
   "cell_type": "markdown",
   "metadata": {},
   "source": [
    "## Question 1.\n",
    "\n",
    "### Test A: Does discount amount have a statistically significant effect on the quantity of a product in an order?\n",
    "\n",
    "\n",
    "\n",
    "   - Null Hypothesis ($H_0$): Discount has no effect on the quntity of products sold.\n",
    "   $$\\mu_A = \\mu_B$$\n",
    "\n",
    "\n",
    "   - Alternative Hypothesis ($H_A$): Disccount has effect on the quantity of products sold.\n",
    "   $$\\mu_A \\neq \\mu_B$$   \n",
    "   \n",
    "   "
   ]
  },
  {
   "cell_type": "markdown",
   "metadata": {},
   "source": [
    "In order to test the first hypothesis, the mean number of discounted product sold and the mean number of non-discounted prodcut sold needs to be calculated. If the mean number is the same, then it means that selling products with discounted price doesn't have help with increasing revenue. This is important question to ask to maximize company's profit. If the numbers of discounted item sold is larger, then further investigation will be performed to figure out at which level of the discount.\n",
    "\n",
    "\n",
    "### EDA\n",
    "\n",
    "Exploratory Data Analysis comes always first. \n",
    "Let's connect to the database and see what the enemy looks like.\n",
    "\n",
    "\n",
    "\n",
    "Quick run-through was performed below."
   ]
  },
  {
   "cell_type": "markdown",
   "metadata": {},
   "source": [
    "#### Importing Libraries"
   ]
  },
  {
   "cell_type": "code",
   "execution_count": 330,
   "metadata": {},
   "outputs": [],
   "source": [
    "# Importing more tools to get the job done\n",
    "\n",
    "import warnings\n",
    "warnings.simplefilter(action='ignore', category=FutureWarning)\n",
    "import sqlite3 as sql\n",
    "import pandas as pd\n",
    "import numpy as np\n",
    "import scipy.stats as scs\n",
    "\n",
    "from statsmodels.stats.power import TTestIndPower\n",
    "from sklearn.linear_model import LinearRegression\n",
    "from sklearn.preprocessing import MinMaxScaler\n",
    "from sklearn.linear_model import Lasso, Ridge, LinearRegression\n",
    "from sklearn.model_selection import train_test_split\n",
    "import matplotlib.pyplot as plt\n",
    "from sklearn.linear_model import LinearRegression\n",
    "from sklearn.model_selection import cross_val_score\n",
    "from sklearn.model_selection import KFold\n",
    "from sklearn import preprocessing\n",
    "import statsmodels.api as sm\n",
    "from statsmodels.formula.api import ols\n",
    "import seaborn as sns\n",
    "from scipy import stats\n",
    "from sklearn import linear_model as lm\n",
    "from statsmodels.graphics.factorplots import interaction_plot\n",
    "from statsmodels.stats.multicomp import pairwise_tukeyhsd\n",
    "from statsmodels.stats.multicomp import MultiComparison\n",
    "\n"
   ]
  },
  {
   "cell_type": "markdown",
   "metadata": {},
   "source": [
    "#### Connecting to database"
   ]
  },
  {
   "cell_type": "code",
   "execution_count": 331,
   "metadata": {},
   "outputs": [],
   "source": [
    "conn = sql.Connection(\"Northwind_small.sqlite\")   #Connecting to the data base\n",
    "c = conn.cursor()"
   ]
  },
  {
   "cell_type": "code",
   "execution_count": 332,
   "metadata": {},
   "outputs": [],
   "source": [
    "tables = c.execute(\"SELECT name FROM sqlite_master WHERE type='table';\").fetchall() #Fetching all the table names\n",
    "tables = [i[0] for i in tables]\n",
    "\n"
   ]
  },
  {
   "cell_type": "code",
   "execution_count": 333,
   "metadata": {
    "scrolled": true
   },
   "outputs": [
    {
     "name": "stdout",
     "output_type": "stream",
     "text": [
      "['Employee_df', 'Category_df', 'Customer_df', 'Shipper_df', 'Supplier_df', 'Order_df', 'Product_df', 'OrderDetail_df', 'CustomerCustomerDemo_df', 'CustomerDemographic_df', 'Region_df', 'Territory_df', 'EmployeeTerritory_df']\n"
     ]
    }
   ],
   "source": [
    "dfa = [] # Loop to put all tables into pandas dataframes\n",
    "for i in tables:\n",
    "    table = c.execute('select * from \"'+i+'\"').fetchall()\n",
    "    columns = c.execute('PRAGMA table_info(\"'+i+'\")').fetchall()\n",
    "    df = pd.DataFrame(table, columns=[i[1] for i in columns])\n",
    "   \n",
    "    category_name = i+\"_df\"\n",
    "    exec(category_name + \" = df\") # => TableName_df\n",
    "    \n",
    "    dfa.append(category_name)\n",
    "    \n",
    "print(dfa)\n",
    "\n"
   ]
  },
  {
   "cell_type": "markdown",
   "metadata": {},
   "source": [
    "Loop for tables\n",
    "Source: https://github.com/arseniyturin/dsc-2-final-project-online-ds-sp-000/blob/master/Project%202%20Student.ipynb"
   ]
  },
  {
   "cell_type": "code",
   "execution_count": 334,
   "metadata": {
    "scrolled": true
   },
   "outputs": [
    {
     "name": "stdout",
     "output_type": "stream",
     "text": [
      "<class 'pandas.core.frame.DataFrame'>\n",
      "RangeIndex: 2155 entries, 0 to 2154\n",
      "Data columns (total 6 columns):\n",
      "Id           2155 non-null object\n",
      "OrderId      2155 non-null int64\n",
      "ProductId    2155 non-null int64\n",
      "UnitPrice    2155 non-null float64\n",
      "Quantity     2155 non-null int64\n",
      "Discount     2155 non-null float64\n",
      "dtypes: float64(2), int64(3), object(1)\n",
      "memory usage: 101.1+ KB\n"
     ]
    }
   ],
   "source": [
    "OrderDetail_df.info()"
   ]
  },
  {
   "cell_type": "markdown",
   "metadata": {},
   "source": [
    "It shows that there's no missing NaN or missing values. There're total 2155 data entries."
   ]
  },
  {
   "cell_type": "code",
   "execution_count": 335,
   "metadata": {},
   "outputs": [
    {
     "data": {
      "text/html": [
       "<div>\n",
       "<style scoped>\n",
       "    .dataframe tbody tr th:only-of-type {\n",
       "        vertical-align: middle;\n",
       "    }\n",
       "\n",
       "    .dataframe tbody tr th {\n",
       "        vertical-align: top;\n",
       "    }\n",
       "\n",
       "    .dataframe thead th {\n",
       "        text-align: right;\n",
       "    }\n",
       "</style>\n",
       "<table border=\"1\" class=\"dataframe\">\n",
       "  <thead>\n",
       "    <tr style=\"text-align: right;\">\n",
       "      <th></th>\n",
       "      <th>Id</th>\n",
       "      <th>OrderId</th>\n",
       "      <th>ProductId</th>\n",
       "      <th>UnitPrice</th>\n",
       "      <th>Quantity</th>\n",
       "      <th>Discount</th>\n",
       "    </tr>\n",
       "  </thead>\n",
       "  <tbody>\n",
       "    <tr>\n",
       "      <th>0</th>\n",
       "      <td>10248/11</td>\n",
       "      <td>10248</td>\n",
       "      <td>11</td>\n",
       "      <td>14.0</td>\n",
       "      <td>12</td>\n",
       "      <td>0.00</td>\n",
       "    </tr>\n",
       "    <tr>\n",
       "      <th>1</th>\n",
       "      <td>10248/42</td>\n",
       "      <td>10248</td>\n",
       "      <td>42</td>\n",
       "      <td>9.8</td>\n",
       "      <td>10</td>\n",
       "      <td>0.00</td>\n",
       "    </tr>\n",
       "    <tr>\n",
       "      <th>2</th>\n",
       "      <td>10248/72</td>\n",
       "      <td>10248</td>\n",
       "      <td>72</td>\n",
       "      <td>34.8</td>\n",
       "      <td>5</td>\n",
       "      <td>0.00</td>\n",
       "    </tr>\n",
       "    <tr>\n",
       "      <th>3</th>\n",
       "      <td>10249/14</td>\n",
       "      <td>10249</td>\n",
       "      <td>14</td>\n",
       "      <td>18.6</td>\n",
       "      <td>9</td>\n",
       "      <td>0.00</td>\n",
       "    </tr>\n",
       "    <tr>\n",
       "      <th>4</th>\n",
       "      <td>10249/51</td>\n",
       "      <td>10249</td>\n",
       "      <td>51</td>\n",
       "      <td>42.4</td>\n",
       "      <td>40</td>\n",
       "      <td>0.00</td>\n",
       "    </tr>\n",
       "    <tr>\n",
       "      <th>5</th>\n",
       "      <td>10250/41</td>\n",
       "      <td>10250</td>\n",
       "      <td>41</td>\n",
       "      <td>7.7</td>\n",
       "      <td>10</td>\n",
       "      <td>0.00</td>\n",
       "    </tr>\n",
       "    <tr>\n",
       "      <th>6</th>\n",
       "      <td>10250/51</td>\n",
       "      <td>10250</td>\n",
       "      <td>51</td>\n",
       "      <td>42.4</td>\n",
       "      <td>35</td>\n",
       "      <td>0.15</td>\n",
       "    </tr>\n",
       "    <tr>\n",
       "      <th>7</th>\n",
       "      <td>10250/65</td>\n",
       "      <td>10250</td>\n",
       "      <td>65</td>\n",
       "      <td>16.8</td>\n",
       "      <td>15</td>\n",
       "      <td>0.15</td>\n",
       "    </tr>\n",
       "    <tr>\n",
       "      <th>8</th>\n",
       "      <td>10251/22</td>\n",
       "      <td>10251</td>\n",
       "      <td>22</td>\n",
       "      <td>16.8</td>\n",
       "      <td>6</td>\n",
       "      <td>0.05</td>\n",
       "    </tr>\n",
       "    <tr>\n",
       "      <th>9</th>\n",
       "      <td>10251/57</td>\n",
       "      <td>10251</td>\n",
       "      <td>57</td>\n",
       "      <td>15.6</td>\n",
       "      <td>15</td>\n",
       "      <td>0.05</td>\n",
       "    </tr>\n",
       "  </tbody>\n",
       "</table>\n",
       "</div>"
      ],
      "text/plain": [
       "         Id  OrderId  ProductId  UnitPrice  Quantity  Discount\n",
       "0  10248/11    10248         11       14.0        12      0.00\n",
       "1  10248/42    10248         42        9.8        10      0.00\n",
       "2  10248/72    10248         72       34.8         5      0.00\n",
       "3  10249/14    10249         14       18.6         9      0.00\n",
       "4  10249/51    10249         51       42.4        40      0.00\n",
       "5  10250/41    10250         41        7.7        10      0.00\n",
       "6  10250/51    10250         51       42.4        35      0.15\n",
       "7  10250/65    10250         65       16.8        15      0.15\n",
       "8  10251/22    10251         22       16.8         6      0.05\n",
       "9  10251/57    10251         57       15.6        15      0.05"
      ]
     },
     "execution_count": 335,
     "metadata": {},
     "output_type": "execute_result"
    }
   ],
   "source": [
    "OrderDetail_df.head(10)"
   ]
  },
  {
   "cell_type": "code",
   "execution_count": 336,
   "metadata": {},
   "outputs": [
    {
     "data": {
      "text/html": [
       "<div>\n",
       "<style scoped>\n",
       "    .dataframe tbody tr th:only-of-type {\n",
       "        vertical-align: middle;\n",
       "    }\n",
       "\n",
       "    .dataframe tbody tr th {\n",
       "        vertical-align: top;\n",
       "    }\n",
       "\n",
       "    .dataframe thead th {\n",
       "        text-align: right;\n",
       "    }\n",
       "</style>\n",
       "<table border=\"1\" class=\"dataframe\">\n",
       "  <thead>\n",
       "    <tr style=\"text-align: right;\">\n",
       "      <th></th>\n",
       "      <th>Quantity</th>\n",
       "      <th>Discount</th>\n",
       "    </tr>\n",
       "  </thead>\n",
       "  <tbody>\n",
       "    <tr>\n",
       "      <th>count</th>\n",
       "      <td>2155.000000</td>\n",
       "      <td>2155.000000</td>\n",
       "    </tr>\n",
       "    <tr>\n",
       "      <th>mean</th>\n",
       "      <td>23.812993</td>\n",
       "      <td>0.056167</td>\n",
       "    </tr>\n",
       "    <tr>\n",
       "      <th>std</th>\n",
       "      <td>19.022047</td>\n",
       "      <td>0.083450</td>\n",
       "    </tr>\n",
       "    <tr>\n",
       "      <th>min</th>\n",
       "      <td>1.000000</td>\n",
       "      <td>0.000000</td>\n",
       "    </tr>\n",
       "    <tr>\n",
       "      <th>25%</th>\n",
       "      <td>10.000000</td>\n",
       "      <td>0.000000</td>\n",
       "    </tr>\n",
       "    <tr>\n",
       "      <th>50%</th>\n",
       "      <td>20.000000</td>\n",
       "      <td>0.000000</td>\n",
       "    </tr>\n",
       "    <tr>\n",
       "      <th>75%</th>\n",
       "      <td>30.000000</td>\n",
       "      <td>0.100000</td>\n",
       "    </tr>\n",
       "    <tr>\n",
       "      <th>max</th>\n",
       "      <td>130.000000</td>\n",
       "      <td>0.250000</td>\n",
       "    </tr>\n",
       "  </tbody>\n",
       "</table>\n",
       "</div>"
      ],
      "text/plain": [
       "          Quantity     Discount\n",
       "count  2155.000000  2155.000000\n",
       "mean     23.812993     0.056167\n",
       "std      19.022047     0.083450\n",
       "min       1.000000     0.000000\n",
       "25%      10.000000     0.000000\n",
       "50%      20.000000     0.000000\n",
       "75%      30.000000     0.100000\n",
       "max     130.000000     0.250000"
      ]
     },
     "execution_count": 336,
     "metadata": {},
     "output_type": "execute_result"
    }
   ],
   "source": [
    "OrderDetail_df[['Quantity','Discount']].describe()"
   ]
  },
  {
   "cell_type": "code",
   "execution_count": 337,
   "metadata": {},
   "outputs": [],
   "source": [
    "discount =  OrderDetail_df[OrderDetail_df['Discount']!=0]\n",
    "\n",
    "no_discount =  OrderDetail_df[OrderDetail_df['Discount']==0]\n"
   ]
  },
  {
   "cell_type": "code",
   "execution_count": 338,
   "metadata": {
    "scrolled": false
   },
   "outputs": [
    {
     "name": "stdout",
     "output_type": "stream",
     "text": [
      "<class 'pandas.core.frame.DataFrame'>\n",
      "Int64Index: 838 entries, 6 to 2152\n",
      "Data columns (total 6 columns):\n",
      "Id           838 non-null object\n",
      "OrderId      838 non-null int64\n",
      "ProductId    838 non-null int64\n",
      "UnitPrice    838 non-null float64\n",
      "Quantity     838 non-null int64\n",
      "Discount     838 non-null float64\n",
      "dtypes: float64(2), int64(3), object(1)\n",
      "memory usage: 45.8+ KB\n"
     ]
    }
   ],
   "source": [
    "discount.info()"
   ]
  },
  {
   "cell_type": "code",
   "execution_count": 339,
   "metadata": {
    "scrolled": true
   },
   "outputs": [
    {
     "name": "stdout",
     "output_type": "stream",
     "text": [
      "<class 'pandas.core.frame.DataFrame'>\n",
      "Int64Index: 1317 entries, 0 to 2154\n",
      "Data columns (total 6 columns):\n",
      "Id           1317 non-null object\n",
      "OrderId      1317 non-null int64\n",
      "ProductId    1317 non-null int64\n",
      "UnitPrice    1317 non-null float64\n",
      "Quantity     1317 non-null int64\n",
      "Discount     1317 non-null float64\n",
      "dtypes: float64(2), int64(3), object(1)\n",
      "memory usage: 72.0+ KB\n"
     ]
    }
   ],
   "source": [
    "no_discount.info()"
   ]
  },
  {
   "cell_type": "markdown",
   "metadata": {},
   "source": [
    "There're little total of 1317 of discounted products and 838 of non-discounted products."
   ]
  },
  {
   "cell_type": "code",
   "execution_count": 340,
   "metadata": {},
   "outputs": [
    {
     "data": {
      "text/plain": [
       "count    838.000000\n",
       "mean      27.109785\n",
       "std       20.771439\n",
       "min        1.000000\n",
       "25%       12.000000\n",
       "50%       20.000000\n",
       "75%       36.000000\n",
       "max      130.000000\n",
       "Name: Quantity, dtype: float64"
      ]
     },
     "execution_count": 340,
     "metadata": {},
     "output_type": "execute_result"
    }
   ],
   "source": [
    "discount.Quantity.describe()"
   ]
  },
  {
   "cell_type": "code",
   "execution_count": 341,
   "metadata": {},
   "outputs": [
    {
     "data": {
      "text/plain": [
       "count    1317.000000\n",
       "mean       21.715262\n",
       "std        17.507493\n",
       "min         1.000000\n",
       "25%        10.000000\n",
       "50%        18.000000\n",
       "75%        30.000000\n",
       "max       130.000000\n",
       "Name: Quantity, dtype: float64"
      ]
     },
     "execution_count": 341,
     "metadata": {},
     "output_type": "execute_result"
    }
   ],
   "source": [
    "no_discount.Quantity.describe()"
   ]
  },
  {
   "cell_type": "code",
   "execution_count": 342,
   "metadata": {
    "scrolled": true
   },
   "outputs": [
    {
     "data": {
      "text/plain": [
       "array([0.15, 0.05, 0.2 , 0.25, 0.1 , 0.02, 0.03, 0.04, 0.06, 0.01])"
      ]
     },
     "execution_count": 342,
     "metadata": {},
     "output_type": "execute_result"
    }
   ],
   "source": [
    "discount['Discount'].unique()"
   ]
  },
  {
   "cell_type": "code",
   "execution_count": 343,
   "metadata": {
    "scrolled": true
   },
   "outputs": [
    {
     "data": {
      "text/plain": [
       "0.05    185\n",
       "0.10    173\n",
       "0.20    161\n",
       "0.15    157\n",
       "0.25    154\n",
       "0.03      3\n",
       "0.02      2\n",
       "0.04      1\n",
       "0.06      1\n",
       "0.01      1\n",
       "Name: Discount, dtype: int64"
      ]
     },
     "execution_count": 343,
     "metadata": {},
     "output_type": "execute_result"
    }
   ],
   "source": [
    "discount['Discount'].value_counts()"
   ]
  },
  {
   "cell_type": "code",
   "execution_count": 344,
   "metadata": {
    "scrolled": false
   },
   "outputs": [
    {
     "data": {
      "image/png": "[encoded data removed]",
      "text/plain": [
       "<Figure size 1080x1080 with 1 Axes>"
      ]
     },
     "metadata": {},
     "output_type": "display_data"
    }
   ],
   "source": [
    "plt.axvline(x=s_ndc.mean(), linestyle='--')\n",
    "plt.axvline(x=s_dc.mean(), linestyle='--')\n",
    "\n",
    "\n",
    "sns.distplot(s_ndc, bins = 20, label= 'No Discount')\n",
    "sns.distplot(s_dc, bins =20, label='Discount')\n",
    "\n",
    "plt.title('Discount vs No Discount', fontsize=20)\n",
    "plt.xlabel('Distributions')\n",
    "plt.ylabel('Frequency')\n",
    "plt.legend()\n",
    "plt.show()"
   ]
  },
  {
   "cell_type": "code",
   "execution_count": 345,
   "metadata": {},
   "outputs": [
    {
     "name": "stdout",
     "output_type": "stream",
     "text": [
      "Average product sold with discount = 27.110  Average product sold without discount 21.715\n"
     ]
    },
    {
     "data": {
      "image/png": "[encoded data removed]",
      "text/plain": [
       "<Figure size 1080x1080 with 1 Axes>"
      ]
     },
     "metadata": {},
     "output_type": "display_data"
    }
   ],
   "source": [
    "X1 = 'discount'\n",
    "Y1 = discount.Quantity.mean()\n",
    "X2 = 'no_discount'\n",
    "Y2 = no_discount.Quantity.mean()\n",
    "\n",
    "plt.bar(X1,Y1, label= 'Discount')\n",
    "plt.bar(X2,Y2, label= 'No Discount')\n",
    "\n",
    "plt.legend()\n",
    "plt.ylabel('Average Quantity')\n",
    "plt.title('Discount v.s. No Discount Average Quantity of Product Per Order = ', fontsize=14 )\n",
    "print('Average product sold with discount = %.3f ' % Y1, 'Average product sold without discount %.3f' % Y2)"
   ]
  },
  {
   "cell_type": "markdown",
   "metadata": {},
   "source": [
    "#### Things learned from the EDA\n",
    "\n",
    " - Total of 2155, discounted sample number = 838, not discounted sample = 1317.\n",
    " - Quantity data is not normally distributed by looking at the histogram, left scewed.\n",
    " - There're 5 different levels of discount."
   ]
  },
  {
   "cell_type": "markdown",
   "metadata": {},
   "source": [
    "### Which test to use for hypothesis testing?\n",
    "\n",
    "To determine if there's difference between mean of the two groups, t-test can be used. By the definition from the source, \"A t-test’s statistical significance indicates whether or not the difference between two groups’ averages most likely reflects a “real” difference in the population from which the groups were sampled.\" For this testing Welch's t-test will be used.\n",
    "\n",
    "source: http://docs.statwing.com/examples-and-definitions/t-test/statistical-significance/\n",
    "\n",
    "#### Assumptions for Welch’s T-test\n",
    "Welch's T-test was chosen for this hypothesis testing because of the couple of the reasons. Welch's t-test doesn't have to have same number of samples and the variance between the sampe groups. Discounted group and non-discounted group has different number of samples. Let's see if two samples fulfils assumptions for welch's T-test\n",
    "\n",
    "1. Random sample:\n",
    "\n",
    " All the data was independently drawn ones. It's not dependent to each other at all, so It meets the requirements.\n",
    " \n",
    "\n",
    "2. Normal distribution:\n",
    "\n",
    " By the performing EDA, sample data doesn't have normal distribution. It's right skewed distribution. But, according to the central limit theorem, if the sample sizes are large enough, the distribution of means will follow a Gaussian distribution(normal distribution) even if the population is not Gaussian. Safe sample size to invoking this assumption is kwon as larger than 10 samples in the groups. Since there're way more than 10 samples for each groups, it is safe to invoke this assumption and proceed.\n",
    " \n",
    "\n",
    "sourc:https://www.graphpad.com/guides/prism/7/statistics/the_central_limit_theorem_of_statistics.htm?toc=0&printWindow\n",
    " \n",
    " \n",
    "3. Continuous dependent variable\n",
    "\n",
    " Dependant variable for the samples are continuous. It's not categorical.\n",
    " \n",
    "\n",
    "#### It is safe to use Welch's T-test for the hypothesis number 1."
   ]
  },
  {
   "cell_type": "markdown",
   "metadata": {},
   "source": [
    "### Stastical Power\n",
    "\n",
    "Right tool for the testing was choosen, but there's still antoher thing to be chosen for before the actual testing. It is the stastical power. It is one of the most importan thing for the hypothesis testing to get a valid result from the test. It shows how likely a test is to distinguish an actual effect from total random chance. For this hypothesis, alpha and  beta will be designated as following, until enough number of sample size is verified later.\n",
    "\n",
    "$$\\alpha = 0.05$$\n",
    "$$\\beta = 0.05$$\n",
    "Confidencelevel = 95%\n",
    "Power = 95%\n",
    "\n",
    "Stastical power and confidence level will be both at 95%\n",
    "In order to verify what sample size is required to have both of the confidence level and stastic power. \n",
    "\n",
    "Below is parameters for power analysis."
   ]
  },
  {
   "cell_type": "markdown",
   "metadata": {},
   "source": [
    "#### Cohen's D for calculating effect size for two group"
   ]
  },
  {
   "cell_type": "code",
   "execution_count": 346,
   "metadata": {},
   "outputs": [
    {
     "name": "stdout",
     "output_type": "stream",
     "text": [
      "discounted vs non-discounted 0.28627\n"
     ]
    }
   ],
   "source": [
    "# Function for calculating cohen's D for effect size\n",
    "def Cohen_d(group1, group2):\n",
    "\n",
    "    diff = group1.mean() - group2.mean()\n",
    "    n1, n2 = len(group1), len(group2)\n",
    "    var1 = group1.var()\n",
    "    var2 = group2.var()\n",
    "\n",
    "    pooled_var = (n1 * var1 + n2 * var2) / (n1 + n2)\n",
    "    d = diff / np.sqrt(pooled_var)\n",
    "    return abs(d)\n",
    "\n",
    "print('discounted vs non-discounted %.5f' % Cohen_d(discount.Quantity, no_discount.Quantity))"
   ]
  },
  {
   "cell_type": "markdown",
   "metadata": {},
   "source": [
    "- small effect  = 0.2\n",
    "- medium effect = 0.5 \n",
    "- large effect  = 0.8 \n",
    "\n",
    "It is already showing that there's small to medium effect on disccount on quantity of product sold between two grorups.\n",
    "\n",
    "#### Calculating required sample size for 95% cofidence lvel with 95% statistical power"
   ]
  },
  {
   "cell_type": "code",
   "execution_count": 347,
   "metadata": {
    "scrolled": true
   },
   "outputs": [
    {
     "name": "stdout",
     "output_type": "stream",
     "text": [
      "Sample Size: 318.698\n"
     ]
    }
   ],
   "source": [
    "# parameters for power analysis\n",
    "effect_size = 0.286 \n",
    "alpha = 0.05\n",
    "power = 0.95\n",
    "# perform power analysis\n",
    "analysis = TTestIndPower()\n",
    "result = analysis.solve_power(effect_size, power=power, nobs1=None, ratio=1.0, alpha=alpha)\n",
    "print('Sample Size: %.3f' % result)"
   ]
  },
  {
   "cell_type": "markdown",
   "metadata": {},
   "source": [
    "Required sample size is 319 from each of the group. There're more than enough of samples are available to run the test. This hypothesis testing will have statistical power of 95% and 95% confidence level. It has high posibility of rejecting false null hypothesis and all posible samples that can be expected to include the ture population parameter. This is very strong statistically significant test.\n",
    "\n",
    "Source: https://stattrek.com/statistics/dictionary.aspx?definition=confidence_level\n",
    "\n"
   ]
  },
  {
   "cell_type": "markdown",
   "metadata": {},
   "source": [
    "#### Welch's t-test"
   ]
  },
  {
   "cell_type": "code",
   "execution_count": 348,
   "metadata": {},
   "outputs": [],
   "source": [
    "# create function to sample with replacement\n",
    "def get_sample(df, n):\n",
    "    sample = []\n",
    "    while len(sample) != n:\n",
    "        x = np.random.choice(df)\n",
    "        sample.append(x)\n",
    "    return sample\n",
    "\n",
    "# create function to calculate mean of the sample\n",
    "def get_sample_mean(sample):\n",
    "    return sum(sample)/len(sample)\n",
    "\n",
    "# combine functions to create a sample distribution\n",
    "# create a distribution size of 320 and sample size of 320\n",
    "def create_sample_distribution(df, dist_size=319, n=319):\n",
    "    sample_dist = [] \n",
    "    while len(sample_dist) != dist_size:\n",
    "        sample = get_sample(df, n)\n",
    "        sample_mean = get_sample_mean(sample)\n",
    "        sample_dist.append(sample_mean)\n",
    "        \n",
    "    return sample_dist"
   ]
  },
  {
   "cell_type": "markdown",
   "metadata": {},
   "source": [
    "Source code is from the Learn.co Material\n",
    "https://github.com/learn-co-curriculum/dsc-central-limit-theorem-lab/tree/solution"
   ]
  },
  {
   "cell_type": "code",
   "execution_count": 349,
   "metadata": {},
   "outputs": [],
   "source": [
    "# create control and experimental groups\n",
    "control = OrderDetail_df[OrderDetail_df['Discount'] == 0]\n",
    "control = control['Quantity']\n",
    "exp = OrderDetail_df[OrderDetail_df['Discount'] != 0]\n",
    "exp = exp['Quantity']"
   ]
  },
  {
   "cell_type": "code",
   "execution_count": 350,
   "metadata": {},
   "outputs": [],
   "source": [
    "ctrl_sample = create_sample_distribution(control)\n",
    "exp_sample = create_sample_distribution(exp)"
   ]
  },
  {
   "cell_type": "code",
   "execution_count": 351,
   "metadata": {},
   "outputs": [
    {
     "data": {
      "text/plain": [
       "<matplotlib.legend.Legend at 0x236fd6e54e0>"
      ]
     },
     "execution_count": 351,
     "metadata": {},
     "output_type": "execute_result"
    },
    {
     "data": {
      "image/png": "[encoded data removed]",
      "text/plain": [
       "<Figure size 1080x720 with 1 Axes>"
      ]
     },
     "metadata": {},
     "output_type": "display_data"
    }
   ],
   "source": [
    "plt.figure(figsize = (15, 10))\n",
    "sns.distplot(ctrl_sample, label='Control')\n",
    "sns.distplot(exp_sample, label='Experimental')\n",
    "plt.title('Sampling distributions of sample mean', fontsize=25)\n",
    "plt.xlabel('Quantity of product ordered', fontsize=25)\n",
    "plt.legend(fontsize=16)"
   ]
  },
  {
   "cell_type": "code",
   "execution_count": 352,
   "metadata": {},
   "outputs": [
    {
     "name": "stdout",
     "output_type": "stream",
     "text": [
      "Ttest_indResult(statistic=63.15667720367915, pvalue=1.729426788331189e-269)\n"
     ]
    }
   ],
   "source": [
    "s_ndc = no_discount.Quantity.sample(319)\n",
    "s_dc = discount.Quantity.sample(319)\n",
    "\n",
    "result = stats.ttest_ind(exp_sample, ctrl_sample, equal_var=False)\n",
    "\n",
    "print(result)"
   ]
  },
  {
   "cell_type": "markdown",
   "metadata": {},
   "source": [
    "### Conclusion for Test A"
   ]
  },
  {
   "cell_type": "markdown",
   "metadata": {},
   "source": [
    "#### Reject null hypothesis and accept alternate hypothesis\n",
    "\n",
    "P-value is less than 0.05. It's not likely to be a result of a random chance, and difference is significant. It is safe to reject the null hypotehsis and accept the alternate hypothesis. It was proven that there's effect on quantity sold when discount was applied to the products."
   ]
  },
  {
   "cell_type": "markdown",
   "metadata": {},
   "source": [
    "### Test B: At what levels of discount products get sold the most?\n",
    "\n",
    "\n",
    "\n",
    "   - Null Hypothesis ($H_0$): There is no statistically significant difference between quntity sold with different levels of discount.\n",
    "   $$\\mu_A = \\mu_B = \\mu_C$$\n",
    "\n",
    "\n",
    "   - Alternative Hypothesis ($H_A$): There's statistically significant difference between quantity sold with different levels of discount.\n",
    "   $$\\mu_A \\neq \\mu_B \\neq \\mu_C $$   \n",
    "  \n",
    " "
   ]
  },
  {
   "cell_type": "markdown",
   "metadata": {},
   "source": [
    "#### How many discount levels are there? "
   ]
  },
  {
   "cell_type": "code",
   "execution_count": 353,
   "metadata": {
    "scrolled": true
   },
   "outputs": [
    {
     "data": {
      "text/plain": [
       "10"
      ]
     },
     "execution_count": 353,
     "metadata": {},
     "output_type": "execute_result"
    }
   ],
   "source": [
    "len(discount['Discount'].unique())"
   ]
  },
  {
   "cell_type": "markdown",
   "metadata": {},
   "source": [
    "### Which test to use for hypothesis testing?\n",
    "\n",
    "There're 10 different levels of discounts and the testing is about if there's any difference between mean of quantity sold between products. ANOVA, Analysis of Varaiance might be the right one for this since there're more than two groups. But, there're requirements to meet first in order to use ANOVA. \n",
    "\n",
    "#### Assumptions for ANOVA Test\n",
    "There are three assumptions for ANOVA test. Those are random samples, normal distribution, equal variance.\n",
    "\n",
    "Let's tackle one at a time to exmaine ANOVA is the right tool.\n",
    "\n",
    "1. Random sample:\n",
    "\n",
    " Already verified, all the data is from independent customers. There's no correlation or influence between customers.\n",
    " \n",
    "\n",
    "2. Normal distribution:\n",
    "\n",
    " It's not normally distributed, but it can be invoked by the cnetral limit theroem with having sufficiently large sample size greater than 30.\n",
    " \n",
    " \n",
    "3. Equal variance:\n",
    "\n",
    " To test equal variance, there're many ways to test it, but Levne's test is one of the easiest and well kwon method to test. If the p-value is larger than 0.05, then the variances are not significantly different from each other. Levene's test will perform to verify equal variance.\n",
    " \n",
    "\n"
   ]
  },
  {
   "cell_type": "code",
   "execution_count": 354,
   "metadata": {
    "scrolled": false
   },
   "outputs": [
    {
     "data": {
      "text/html": [
       "<div>\n",
       "<style scoped>\n",
       "    .dataframe tbody tr th:only-of-type {\n",
       "        vertical-align: middle;\n",
       "    }\n",
       "\n",
       "    .dataframe tbody tr th {\n",
       "        vertical-align: top;\n",
       "    }\n",
       "\n",
       "    .dataframe thead th {\n",
       "        text-align: right;\n",
       "    }\n",
       "</style>\n",
       "<table border=\"1\" class=\"dataframe\">\n",
       "  <thead>\n",
       "    <tr style=\"text-align: right;\">\n",
       "      <th></th>\n",
       "      <th>count</th>\n",
       "      <th>mean</th>\n",
       "      <th>std</th>\n",
       "      <th>min</th>\n",
       "      <th>25%</th>\n",
       "      <th>50%</th>\n",
       "      <th>75%</th>\n",
       "      <th>max</th>\n",
       "    </tr>\n",
       "    <tr>\n",
       "      <th>Discount</th>\n",
       "      <th></th>\n",
       "      <th></th>\n",
       "      <th></th>\n",
       "      <th></th>\n",
       "      <th></th>\n",
       "      <th></th>\n",
       "      <th></th>\n",
       "      <th></th>\n",
       "    </tr>\n",
       "  </thead>\n",
       "  <tbody>\n",
       "    <tr>\n",
       "      <th>0.00</th>\n",
       "      <td>1317.0</td>\n",
       "      <td>21.715262</td>\n",
       "      <td>17.507493</td>\n",
       "      <td>1.0</td>\n",
       "      <td>10.0</td>\n",
       "      <td>18.0</td>\n",
       "      <td>30.0</td>\n",
       "      <td>130.0</td>\n",
       "    </tr>\n",
       "    <tr>\n",
       "      <th>0.01</th>\n",
       "      <td>1.0</td>\n",
       "      <td>2.000000</td>\n",
       "      <td>NaN</td>\n",
       "      <td>2.0</td>\n",
       "      <td>2.0</td>\n",
       "      <td>2.0</td>\n",
       "      <td>2.0</td>\n",
       "      <td>2.0</td>\n",
       "    </tr>\n",
       "    <tr>\n",
       "      <th>0.02</th>\n",
       "      <td>2.0</td>\n",
       "      <td>2.000000</td>\n",
       "      <td>1.414214</td>\n",
       "      <td>1.0</td>\n",
       "      <td>1.5</td>\n",
       "      <td>2.0</td>\n",
       "      <td>2.5</td>\n",
       "      <td>3.0</td>\n",
       "    </tr>\n",
       "    <tr>\n",
       "      <th>0.03</th>\n",
       "      <td>3.0</td>\n",
       "      <td>1.666667</td>\n",
       "      <td>0.577350</td>\n",
       "      <td>1.0</td>\n",
       "      <td>1.5</td>\n",
       "      <td>2.0</td>\n",
       "      <td>2.0</td>\n",
       "      <td>2.0</td>\n",
       "    </tr>\n",
       "    <tr>\n",
       "      <th>0.04</th>\n",
       "      <td>1.0</td>\n",
       "      <td>1.000000</td>\n",
       "      <td>NaN</td>\n",
       "      <td>1.0</td>\n",
       "      <td>1.0</td>\n",
       "      <td>1.0</td>\n",
       "      <td>1.0</td>\n",
       "      <td>1.0</td>\n",
       "    </tr>\n",
       "    <tr>\n",
       "      <th>0.05</th>\n",
       "      <td>185.0</td>\n",
       "      <td>28.010811</td>\n",
       "      <td>22.187685</td>\n",
       "      <td>1.0</td>\n",
       "      <td>14.0</td>\n",
       "      <td>20.0</td>\n",
       "      <td>40.0</td>\n",
       "      <td>120.0</td>\n",
       "    </tr>\n",
       "    <tr>\n",
       "      <th>0.06</th>\n",
       "      <td>1.0</td>\n",
       "      <td>2.000000</td>\n",
       "      <td>NaN</td>\n",
       "      <td>2.0</td>\n",
       "      <td>2.0</td>\n",
       "      <td>2.0</td>\n",
       "      <td>2.0</td>\n",
       "      <td>2.0</td>\n",
       "    </tr>\n",
       "    <tr>\n",
       "      <th>0.10</th>\n",
       "      <td>173.0</td>\n",
       "      <td>25.236994</td>\n",
       "      <td>21.186503</td>\n",
       "      <td>2.0</td>\n",
       "      <td>10.0</td>\n",
       "      <td>20.0</td>\n",
       "      <td>30.0</td>\n",
       "      <td>130.0</td>\n",
       "    </tr>\n",
       "    <tr>\n",
       "      <th>0.15</th>\n",
       "      <td>157.0</td>\n",
       "      <td>28.382166</td>\n",
       "      <td>20.923099</td>\n",
       "      <td>2.0</td>\n",
       "      <td>15.0</td>\n",
       "      <td>21.0</td>\n",
       "      <td>40.0</td>\n",
       "      <td>100.0</td>\n",
       "    </tr>\n",
       "    <tr>\n",
       "      <th>0.20</th>\n",
       "      <td>161.0</td>\n",
       "      <td>27.024845</td>\n",
       "      <td>18.832801</td>\n",
       "      <td>2.0</td>\n",
       "      <td>12.0</td>\n",
       "      <td>21.0</td>\n",
       "      <td>40.0</td>\n",
       "      <td>100.0</td>\n",
       "    </tr>\n",
       "    <tr>\n",
       "      <th>0.25</th>\n",
       "      <td>154.0</td>\n",
       "      <td>28.240260</td>\n",
       "      <td>20.120570</td>\n",
       "      <td>2.0</td>\n",
       "      <td>15.0</td>\n",
       "      <td>25.0</td>\n",
       "      <td>36.0</td>\n",
       "      <td>120.0</td>\n",
       "    </tr>\n",
       "  </tbody>\n",
       "</table>\n",
       "</div>"
      ],
      "text/plain": [
       "           count       mean        std  min   25%   50%   75%    max\n",
       "Discount                                                            \n",
       "0.00      1317.0  21.715262  17.507493  1.0  10.0  18.0  30.0  130.0\n",
       "0.01         1.0   2.000000        NaN  2.0   2.0   2.0   2.0    2.0\n",
       "0.02         2.0   2.000000   1.414214  1.0   1.5   2.0   2.5    3.0\n",
       "0.03         3.0   1.666667   0.577350  1.0   1.5   2.0   2.0    2.0\n",
       "0.04         1.0   1.000000        NaN  1.0   1.0   1.0   1.0    1.0\n",
       "0.05       185.0  28.010811  22.187685  1.0  14.0  20.0  40.0  120.0\n",
       "0.06         1.0   2.000000        NaN  2.0   2.0   2.0   2.0    2.0\n",
       "0.10       173.0  25.236994  21.186503  2.0  10.0  20.0  30.0  130.0\n",
       "0.15       157.0  28.382166  20.923099  2.0  15.0  21.0  40.0  100.0\n",
       "0.20       161.0  27.024845  18.832801  2.0  12.0  21.0  40.0  100.0\n",
       "0.25       154.0  28.240260  20.120570  2.0  15.0  25.0  36.0  120.0"
      ]
     },
     "execution_count": 354,
     "metadata": {},
     "output_type": "execute_result"
    }
   ],
   "source": [
    "OrderDetail_df['Quantity'].groupby(OrderDetail_df['Discount']).describe\n",
    "\n"
   ]
  },
  {
   "cell_type": "markdown",
   "metadata": {},
   "source": [
    "#### Performing Levene's test"
   ]
  },
  {
   "cell_type": "code",
   "execution_count": 361,
   "metadata": {
    "scrolled": false
   },
   "outputs": [
    {
     "data": {
      "text/plain": [
       "LeveneResult(statistic=2.4652212047399273, pvalue=0.022233522937504416)"
      ]
     },
     "execution_count": 361,
     "metadata": {},
     "output_type": "execute_result"
    }
   ],
   "source": [
    "zero = OrderDetail_df[OrderDetail_df['Discount'] == 0]\n",
    "five =  OrderDetail_df[OrderDetail_df['Discount'] == .05]\n",
    "ten =  OrderDetail_df[OrderDetail_df['Discount'] == .1]\n",
    "fifteen= OrderDetail_df[OrderDetail_df['Discount'] == .15]\n",
    "twenty =  OrderDetail_df[OrderDetail_df['Discount'] == .2]\n",
    "twentyfive = OrderDetail_df[OrderDetail_df['Discount'] == .25]\n",
    "\n",
    "\n",
    "scs.levene(zero.Quantity, five.Quantity, ten.Quantity, ten.Quantity, fifteen.Quantity, twenty.Quantity, twentyfive.Quantity)"
   ]
  },
  {
   "cell_type": "markdown",
   "metadata": {},
   "source": [
    "P-value turns out to be lessthan 0.05. Variances are different from each sample groups. AVNOA can't be performed.\n",
    "Multiple comparison test will be performed to determine which discount levels have a statistically significant effect on the quantity of product sold.Tukey's HSD test will be performed."
   ]
  },
  {
   "cell_type": "code",
   "execution_count": 390,
   "metadata": {
    "scrolled": true
   },
   "outputs": [
    {
     "name": "stdout",
     "output_type": "stream",
     "text": [
      "T_Test between 0 % and 0 %. T Value =  0.0 P Value = 1.0\n",
      "T_Test between 0 % and 1 %. T Value =  1.209941058797434 P Value = 0.22710466225198522\n",
      "T_Test between 0 % and 2 %. T Value =  1.209941058797434 P Value = 0.22710466225198522\n",
      "T_Test between 0 % and 3 %. T Value =  -0.15907926596432054 P Value = 0.873701937770792\n",
      "T_Test between 0 % and 4 %. T Value =  0.4470597476296268 P Value = 0.6551134299813659\n",
      "T_Test between 0 % and 5 %. T Value =  -0.09976173385499833 P Value = 0.9205932482537716\n",
      "T_Test between 1 % and 1 %. T Value =  0.0 P Value = 1.0\n",
      "T_Test between 1 % and 2 %. T Value =  0.0 P Value = 1.0\n",
      "T_Test between 1 % and 3 %. T Value =  -1.3556023920391185 P Value = 0.17616507980479174\n",
      "T_Test between 1 % and 4 %. T Value =  -0.8162459699699015 P Value = 0.414945941918507\n",
      "T_Test between 1 % and 5 %. T Value =  -1.3140624458315409 P Value = 0.1897558400462687\n",
      "T_Test between 2 % and 2 %. T Value =  0.0 P Value = 1.0\n",
      "T_Test between 2 % and 3 %. T Value =  -1.3556023920391185 P Value = 0.17616507980479174\n",
      "T_Test between 2 % and 4 %. T Value =  -0.8162459699699015 P Value = 0.414945941918507\n",
      "T_Test between 2 % and 5 %. T Value =  -1.3140624458315409 P Value = 0.1897558400462687\n",
      "T_Test between 3 % and 3 %. T Value =  0.0 P Value = 1.0\n",
      "T_Test between 3 % and 4 %. T Value =  0.607539367319673 P Value = 0.5439367225420654\n",
      "T_Test between 3 % and 5 %. T Value =  0.06096955836923643 P Value = 0.9514228832450177\n",
      "T_Test between 4 % and 4 %. T Value =  0.0 P Value = 1.0\n",
      "T_Test between 4 % and 5 %. T Value =  -0.5529322374171884 P Value = 0.5807093125617225\n"
     ]
    }
   ],
   "source": [
    "#results =[]\n",
    "#names = []\n",
    "\n",
    "g = [five.Quantity, ten.Quantity, ten.Quantity, fifteen.Quantity, twenty.Quantity, twentyfive.Quantity]\n",
    "\n",
    "for i in range(len(g) - 1):\n",
    "    for j in range(i, len(g)):\n",
    "        t, p = stats.ttest_ind(g[i], g[j], equal_var=False)\n",
    "        print(\"T_Test between\", i, \"% and\", j, '%. T Value = ', t, 'P Value =', p)"
   ]
  },
  {
   "cell_type": "markdown",
   "metadata": {},
   "source": [
    "All the P-values are larger than 0.05. There's no effects between the disccount amount."
   ]
  },
  {
   "cell_type": "markdown",
   "metadata": {},
   "source": [
    "### Conclusion for Test B : There was no difference between discount levels."
   ]
  },
  {
   "cell_type": "markdown",
   "metadata": {},
   "source": [
    "## Question 2. \n",
    "   ### Does different shipper have different frieght cost ?\n",
    "   \n",
    "    \n",
    "   - Null Hypothesis ($H_0$): There is no significant frieght cost difference from the shippers.\n",
    "   $$\\mu_A = \\mu_B = \\mu_C$$\n",
    "\n",
    "   - Alternative Hypothesis ($H_1$): There's significant friehgt cost difference from the shipppers.\n",
    "   $$\\mu_A \\neq \\mu_B \\neq \\mu_C$$   \n",
    "   \n",
    "  Again, EDA comes first."
   ]
  },
  {
   "cell_type": "markdown",
   "metadata": {},
   "source": [
    "### EDA\n",
    "\n",
    "Exploratory Data Analysis comes always first.\n",
    "Let's connect to the database and see what the enemy looks like.\n",
    "\n",
    "\n",
    "\n",
    "Quick run-through was performed below."
   ]
  },
  {
   "cell_type": "code",
   "execution_count": 365,
   "metadata": {
    "scrolled": true
   },
   "outputs": [
    {
     "name": "stdout",
     "output_type": "stream",
     "text": [
      "<class 'pandas.core.frame.DataFrame'>\n",
      "RangeIndex: 830 entries, 0 to 829\n",
      "Data columns (total 2 columns):\n",
      "CompanyName    830 non-null object\n",
      "Freight        830 non-null float64\n",
      "dtypes: float64(1), object(1)\n",
      "memory usage: 13.0+ KB\n",
      "None\n"
     ]
    }
   ],
   "source": [
    "#Query for loading the data for hypothesis testing number two.\n",
    "\n",
    "query = \"\"\" \n",
    "SELECT \n",
    "    s.CompanyName, o.Freight\n",
    "FROM \n",
    "    [Shipper] s\n",
    "    JOIN\n",
    "    [Order] o\n",
    "    ON \n",
    "    o.ShipVia = s.Id\n",
    "\"\"\"\n",
    "\n",
    "ship_df = pd.read_sql_query(query, conn) \n",
    "fed_df = ship_df.loc[ship_df.CompanyName == 'Federal Shipping']\n",
    "speed_df = ship_df.loc[ship_df.CompanyName == 'Speedy Express']\n",
    "united_df = ship_df.loc[ship_df.CompanyName == 'United Package']\n",
    "\n",
    "print(ship_df.info())"
   ]
  },
  {
   "cell_type": "code",
   "execution_count": 366,
   "metadata": {
    "scrolled": true
   },
   "outputs": [
    {
     "name": "stdout",
     "output_type": "stream",
     "text": [
      "        CompanyName  Freight\n",
      "0  Federal Shipping    32.38\n",
      "1    Speedy Express    11.61\n",
      "2    United Package    65.83\n",
      "3    Speedy Express    41.34\n",
      "4    United Package    51.30\n",
      "5    United Package    58.17\n",
      "6    United Package    22.98\n",
      "7  Federal Shipping   148.33\n",
      "8    United Package    13.97\n",
      "9  Federal Shipping    81.91\n"
     ]
    }
   ],
   "source": [
    "print(ship_df.head(10)) #First 10 data from the query"
   ]
  },
  {
   "cell_type": "code",
   "execution_count": 367,
   "metadata": {},
   "outputs": [
    {
     "name": "stdout",
     "output_type": "stream",
     "text": [
      "           Freight\n",
      "count   830.000000\n",
      "mean     78.244205\n",
      "std     116.779294\n",
      "min       0.020000\n",
      "25%      13.380000\n",
      "50%      41.360000\n",
      "75%      91.430000\n",
      "max    1007.640000\n"
     ]
    }
   ],
   "source": [
    "print(ship_df.describe())  #Quick stat info"
   ]
  },
  {
   "cell_type": "code",
   "execution_count": 368,
   "metadata": {
    "scrolled": true
   },
   "outputs": [
    {
     "name": "stdout",
     "output_type": "stream",
     "text": [
      "                 Freight                                                     \\\n",
      "                   count       mean         std   min    25%     50%    75%   \n",
      "CompanyName                                                                   \n",
      "Federal Shipping   255.0  80.441216  119.362844  0.40  12.86  36.710  99.49   \n",
      "Speedy Express     249.0  65.001325   75.393587  0.12  12.75  40.420  89.90   \n",
      "United Package     326.0  86.640644  138.219262  0.02  14.04  44.135  91.43   \n",
      "\n",
      "                           \n",
      "                      max  \n",
      "CompanyName                \n",
      "Federal Shipping  1007.64  \n",
      "Speedy Express     458.78  \n",
      "United Package     890.78  \n"
     ]
    }
   ],
   "source": [
    "print(ship_df.groupby('CompanyName').describe()) #Quick stastical data from the each company"
   ]
  },
  {
   "cell_type": "markdown",
   "metadata": {},
   "source": [
    "\n"
   ]
  },
  {
   "cell_type": "markdown",
   "metadata": {},
   "source": [
    "Let's take a look at the data distribution. Normaly distributed sample is required for most of the hypothesis test. "
   ]
  },
  {
   "cell_type": "code",
   "execution_count": 370,
   "metadata": {
    "scrolled": false
   },
   "outputs": [
    {
     "data": {
      "text/plain": [
       "<matplotlib.axes._subplots.AxesSubplot at 0x236fa2e76a0>"
      ]
     },
     "execution_count": 370,
     "metadata": {},
     "output_type": "execute_result"
    },
    {
     "data": {
      "image/png": "[encoded data removed]",
      "text/plain": [
       "<Figure size 1080x1080 with 1 Axes>"
      ]
     },
     "metadata": {},
     "output_type": "display_data"
    }
   ],
   "source": [
    "sns.set(color_codes=True)\n",
    "sns.set(rc={'figure.figsize':(15,15)})\n",
    "sns.distplot(speed_df.Freight)\n",
    "sns.distplot(united_df.Freight)\n",
    "sns.distplot(fed_df.Freight)"
   ]
  },
  {
   "cell_type": "markdown",
   "metadata": {},
   "source": [
    "#### Things learned from the EDA\n",
    "\n",
    " - Three different shipping companies. Total of 830;\n",
    "     1. Federal Shipping : 255\n",
    "     2. United Package   : 326\n",
    "     3. Speedy Express   : 249\n",
    "     \n",
    "     \n",
    " - Quantity data is not normally distributed by looking at the histogram, right scewed."
   ]
  },
  {
   "cell_type": "markdown",
   "metadata": {},
   "source": [
    "### Which test to use for hypothesis testing?\n",
    "\n",
    "Since hypothesis number two has three different groups, and testing if there's any difference between freight cost among them. ANOVA, Analysis of Varaiance might be the right one for this since there're more than two groups. But, there're requirements to meet first in order to use ANOVA. \n",
    "\n",
    "#### Assumptions for ANOVA Test\n",
    "There are three assumptions for ANOVA test. Those are random samples, normal distribution, equal variance.\n",
    "\n",
    "Let's tackle one at a time to exmaine ANOVA is the right tool.\n",
    "\n",
    "1. Random sample:\n",
    "\n",
    " All the data was independently drawn ones. It's not dependent to each other at all, so It meets the requirements.\n",
    " \n",
    "\n",
    "2. Normal distribution:\n",
    "\n",
    " Invoked by Central Limit Theorem.\n",
    " \n",
    "3. Equal variance:\n",
    "\n",
    " To test equal variance, there're many ways to test it, but Levne's test is one of the easiest and well kwon method to test. If the p-value is larger than 0.05, then the variances are not significantly different from each other. Let's run it and see if three gorup has equal variance."
   ]
  },
  {
   "cell_type": "code",
   "execution_count": 371,
   "metadata": {
    "scrolled": true
   },
   "outputs": [
    {
     "data": {
      "text/plain": [
       "LeveneResult(statistic=2.962264195050304, pvalue=0.0522505977506296)"
      ]
     },
     "execution_count": 371,
     "metadata": {},
     "output_type": "execute_result"
    }
   ],
   "source": [
    "scs.levene(speed_df.Freight, united_df.Freight, fed_df.Freight)"
   ]
  },
  {
   "cell_type": "markdown",
   "metadata": {},
   "source": [
    "P value is equal to 0.052. The variance between three groups turned out to be not significantly different.\n",
    "\n",
    "So, it turns out to be ANOVA is the right tool to use for hypothesis number 2!"
   ]
  },
  {
   "cell_type": "markdown",
   "metadata": {},
   "source": [
    "### Stastical Power\n",
    "\n",
    "Again, going for the maximum statistical power and confidence level,\n",
    "\n",
    "$$\\alpha = 0.05$$\n",
    "$$\\beta = 0.05$$\n",
    "\n",
    "Stastical power and confidence level will be both at 95%\n",
    "In order to verify what sample size is required to have both of the confidence level and stastic power. \n",
    "\n",
    "Below is parameters for power analysis.\n",
    "\n",
    "#### Cohen's d"
   ]
  },
  {
   "cell_type": "code",
   "execution_count": 395,
   "metadata": {
    "scrolled": false
   },
   "outputs": [
    {
     "name": "stdout",
     "output_type": "stream",
     "text": [
      "Speedy Express vs United Package 0.1877\n",
      "SPeedy Express vs Federal Shipping 0.1543\n",
      "United Package vs Federal Shipping 0.0476\n"
     ]
    }
   ],
   "source": [
    "print('Speedy Express vs United Package %.4f' % Cohen_d(speed_df.Freight,united_df.Freight))\n",
    "print('SPeedy Express vs Federal Shipping %.4f' % Cohen_d(fed_df.Freight, speed_df.Freight))\n",
    "print('United Package vs Federal Shipping %.4f' % Cohen_d(united_df.Freight,fed_df.Freight))"
   ]
  },
  {
   "cell_type": "code",
   "execution_count": 396,
   "metadata": {
    "scrolled": true
   },
   "outputs": [
    {
     "name": "stdout",
     "output_type": "stream",
     "text": [
      "Sample Size: 11471.470\n"
     ]
    }
   ],
   "source": [
    "# parameters for power analysis\n",
    "effect_size = 0.0476\n",
    "alpha = 0.05\n",
    "power = 0.95\n",
    "# perform power analysis\n",
    "analysis = TTestIndPower()\n",
    "result = analysis.solve_power(effect_size, power=power, nobs1=None, ratio=1.0, alpha=alpha)\n",
    "print('Sample Size: %.3f' % result)"
   ]
  },
  {
   "cell_type": "markdown",
   "metadata": {},
   "source": [
    "Smallest effect size was used to calculate required sample size and the result was 11,471. There're only 249 samples available. Lower number of confidence level and statistical power is required. Graphs will be used to find the optimal levels."
   ]
  },
  {
   "cell_type": "code",
   "execution_count": 375,
   "metadata": {},
   "outputs": [],
   "source": [
    "united_sample = create_sample_distribution(united_df.Freight)\n",
    "federal_sample = create_sample_distribution(fed_df.Freight)\n",
    "speedy_sample = create_sample_distribution(speed_df.Freight)"
   ]
  },
  {
   "cell_type": "markdown",
   "metadata": {},
   "source": [
    "Looking at the parameters, effect size needs to be calculated.\n",
    "Cohen's D is for only two groups. All three combinations will be used and smallest effect size number will be used to verify minimum number of the sample size required for the valid test."
   ]
  },
  {
   "cell_type": "markdown",
   "metadata": {},
   "source": [
    "Playing around with the number for the Power and confidence level, the minimum sample size maximizing the confidence level and the power level was 243. The smallest data sample is 249, Speedy Express and other two sample has larger sample numbers. So this hypothesis testing will have confidence level of 80% and stastical power of 26% \n",
    "\n",
    "$$ \\alpha = 0.2$$\n",
    "$$ \\beta = 0.76$$"
   ]
  },
  {
   "cell_type": "markdown",
   "metadata": {},
   "source": [
    "Now, it is time to draw random samples of 249 from the each sample groups and run the ANOVA test."
   ]
  },
  {
   "cell_type": "code",
   "execution_count": 132,
   "metadata": {},
   "outputs": [],
   "source": [
    "sample_fed = fed_df.Freight.sample(244)\n",
    "sample_speed = speed_df.Freight.sample(244)\n",
    "sample_united = united_df.Freight.sample(244)"
   ]
  },
  {
   "cell_type": "code",
   "execution_count": 133,
   "metadata": {},
   "outputs": [
    {
     "name": "stdout",
     "output_type": "stream",
     "text": [
      "F-value =  1.8771347256286162 P-value =  0.15376685715015367\n"
     ]
    }
   ],
   "source": [
    "F, p = stats.f_oneway(sample_fed, sample_speed, sample_united)\n",
    "print('F-value = ', F,'P-value = ', p)"
   ]
  },
  {
   "cell_type": "markdown",
   "metadata": {},
   "source": [
    "\n",
    "\n",
    "['Employee_df', 'Category_df', 'Customer_df', 'Shipper_df', 'Supplier_df', 'Order_df', 'Product_df', 'OrderDetail_df', 'CustomerCustomerDemo_df', 'CustomerDemographic_df', 'Region_df', 'Territory_df', 'EmployeeTerritory_df']"
   ]
  },
  {
   "cell_type": "code",
   "execution_count": null,
   "metadata": {},
   "outputs": [],
   "source": []
  }
 ],
 "metadata": {
  "kernelspec": {
   "display_name": "Python [conda env:learn-env] *",
   "language": "python",
   "name": "conda-env-learn-env-py"
  },
  "language_info": {
   "codemirror_mode": {
    "name": "ipython",
    "version": 3
   },
   "file_extension": ".py",
   "mimetype": "text/x-python",
   "name": "python",
   "nbconvert_exporter": "python",
   "pygments_lexer": "ipython3",
   "version": "3.6.6"
  }
 },
 "nbformat": 4,
 "nbformat_minor": 2
}
